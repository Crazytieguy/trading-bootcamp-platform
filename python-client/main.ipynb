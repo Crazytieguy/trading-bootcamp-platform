{
  "cells": [
    {
      "cell_type": "code",
      "execution_count": 4,
      "metadata": {},
      "outputs": [
        {
          "name": "stderr",
          "output_type": "stream",
          "text": [
            "/workspaces/platform/python-client/.venv/lib/python3.12/site-packages/stringcase.py:247: SyntaxWarning: invalid escape sequence '\\W'\n",
            "  return re.sub(\"\\W+\", \"\", string)\n"
          ]
        }
      ],
      "source": [
        "from dotenv import load_dotenv\n",
        "from metagame import TradingClient\n",
        "import os\n",
        "\n",
        "load_dotenv()\n",
        "\n",
        "client = TradingClient(\n",
        "    api_url=os.environ[\"API_URL\"],\n",
        "    jwt=os.environ[\"JWT\"],\n",
        "    act_as=int(os.environ[\"ACT_AS\"]),\n",
        ")"
      ]
    },
    {
      "cell_type": "code",
      "execution_count": 5,
      "metadata": {},
      "outputs": [
        {
          "data": {
            "text/plain": [
              "bid      0.0\n",
              "offer    NaN\n",
              "dtype: float64"
            ]
          },
          "execution_count": 5,
          "metadata": {},
          "output_type": "execute_result"
        }
      ],
      "source": [
        "import pandas as pd\n",
        "\n",
        "def get_best_bid_offer(market_name: str):\n",
        "    state = client.state()\n",
        "    market_id = state.market_name_to_id.get(market_name)\n",
        "    if market_id is None:\n",
        "        return pd.Series()\n",
        "    bids = state.markets[market_id].bids\n",
        "    offers = state.markets[market_id].offers\n",
        "    return pd.Series({\n",
        "        \"bid\": bids[0].price if bids else None,\n",
        "        \"offer\": offers[0].price if offers else None\n",
        "    })\n",
        "\n",
        "get_best_bid_offer(\"At 6PM Saturday, resolves to 20 if I believe a camp participant has >=4000 clips\")"
      ]
    },
    {
      "cell_type": "code",
      "execution_count": 1,
      "metadata": {},
      "outputs": [],
      "source": [
        "def get_market_trades(market_name: str):\n",
        "    state = client.state()\n",
        "    market_id = state.market_name_to_id.get(market_name)    \n",
        "    if market_id is None:\n",
        "        return pd.DataFrame()\n",
        "\n",
        "    if not state.markets[market_id].hasFullTradeHistory:\n",
        "        client.get_full_trade_history(market_id)\n",
        "        state = client.state()\n",
        "\n",
        "    trades = state.markets[market_id].trades\n",
        "    if not trades:\n",
        "        return pd.DataFrame()\n",
        "    df = pd.DataFrame(trades).set_index(\"id\")\n",
        "    df[\"buyer\"] = df[\"buyer_id\"].map(lambda x: state.accounts[x].name)\n",
        "    df[\"seller\"] = df[\"seller_id\"].map(lambda x: state.accounts[x].name)\n",
        "    return df.drop(columns=[\"market_id\", \"buyer_id\", \"seller_id\"])\n"
      ]
    },
    {
      "cell_type": "code",
      "execution_count": 2,
      "metadata": {},
      "outputs": [
        {
          "ename": "NameError",
          "evalue": "name 'get_best_bid_offer' is not defined",
          "output_type": "error",
          "traceback": [
            "\u001b[0;31m---------------------------------------------------------------------------\u001b[0m",
            "\u001b[0;31mNameError\u001b[0m                                 Traceback (most recent call last)",
            "Cell \u001b[0;32mIn[2], line 7\u001b[0m\n\u001b[1;32m      5\u001b[0m \u001b[38;5;28;01mtry\u001b[39;00m:\n\u001b[1;32m      6\u001b[0m     \u001b[38;5;28;01mwhile\u001b[39;00m \u001b[38;5;28;01mTrue\u001b[39;00m:\n\u001b[0;32m----> 7\u001b[0m         display(\u001b[43mget_best_bid_offer\u001b[49m(\u001b[38;5;124m\"\u001b[39m\u001b[38;5;124mtest_bond\u001b[39m\u001b[38;5;124m\"\u001b[39m))\n\u001b[1;32m      8\u001b[0m         trades \u001b[38;5;241m=\u001b[39m get_market_trades(\u001b[38;5;124m\"\u001b[39m\u001b[38;5;124malpha_tradewars\u001b[39m\u001b[38;5;124m\"\u001b[39m)\u001b[38;5;241m.\u001b[39mset_index(\u001b[38;5;124m\"\u001b[39m\u001b[38;5;124mtransaction_timestamp\u001b[39m\u001b[38;5;124m\"\u001b[39m)\n\u001b[1;32m      9\u001b[0m         \u001b[38;5;28;01mif\u001b[39;00m \u001b[38;5;129;01mnot\u001b[39;00m trades\u001b[38;5;241m.\u001b[39mempty:\n",
            "\u001b[0;31mNameError\u001b[0m: name 'get_best_bid_offer' is not defined"
          ]
        }
      ],
      "source": [
        "from IPython.display import clear_output, display\n",
        "from matplotlib import pyplot as plt\n",
        "from datetime import timedelta\n",
        "\n",
        "try:\n",
        "    while True:\n",
        "        display(get_best_bid_offer(\"test_bond\"))\n",
        "        trades = get_market_trades(\"alpha_tradewars\").set_index(\"transaction_timestamp\")\n",
        "        if not trades.empty:\n",
        "            fig, ax = plt.subplots()\n",
        "            ax.plot(trades.price, label=\"Price\")\n",
        "            ax.set_ylabel(\"Price\")\n",
        "            twin = ax.twinx()\n",
        "            rolling_volume = trades[\"size\"].rolling(timedelta(minutes=0.5)).sum()\n",
        "            twin.fill_between(trades.index, rolling_volume, color=\"orange\", alpha=0.3, label=\"Rolling Volume\")\n",
        "            twin.set_ylabel(\"Rolling Volume\")\n",
        "            ax.legend(loc='upper left')\n",
        "            twin.legend(loc='upper right')\n",
        "            display(fig)\n",
        "        client.wait_portfolio_update()\n",
        "        clear_output(wait=True)\n",
        "except KeyboardInterrupt:\n",
        "    clear_output(wait=True)"
      ]
    },
    {
      "cell_type": "code",
      "execution_count": null,
      "metadata": {},
      "outputs": [],
      "source": [
        "from metagame.websocket_api import Order\n",
        "\n",
        "def order_size_at_transaction(order: Order, transaction_id: int) -> float:\n",
        "    for size in reversed(order.sizes):\n",
        "        if size.transaction_id <= transaction_id:\n",
        "            return size.size\n",
        "    return 0.0\n",
        "\n",
        "def get_bbo_history(market_name: str):\n",
        "    state = client.state()\n",
        "    market_id = state.market_name_to_id.get(market_name)    \n",
        "    if market_id is None:\n",
        "        return pd.DataFrame()\n",
        "\n",
        "    if not state.markets[market_id].hasFullOrderHistory:\n",
        "        client.get_full_order_history(market_id)\n",
        "        state = client.state()\n",
        "\n",
        "    orders = state.markets[market_id].orders\n",
        "    bids = state.markets[market_id].bids\n",
        "    offers = state.markets[market_id].offers\n",
        "    if not orders:\n",
        "        return pd.DataFrame()\n",
        "\n",
        "    transaction_timestamp_by_id = {size.transaction_id: size.transaction_timestamp for o in orders for size in o.sizes}\n",
        "    transaction_ids = sorted(transaction_timestamp_by_id)\n",
        "    transaction_timestamps = [\n",
        "        transaction_timestamp_by_id[t]\n",
        "        for t in transaction_ids\n",
        "    ]\n",
        "    best_bids = [\n",
        "        next((b for b in bids if order_size_at_transaction(b, t) > 0.0), None)\n",
        "        for t in transaction_ids\n",
        "    ]\n",
        "    best_offers = [\n",
        "        next((o for o in offers if order_size_at_transaction(o, t) > 0.0), None)\n",
        "        for t in transaction_ids\n",
        "    ]\n",
        "    df = pd.DataFrame({\n",
        "        \"transaction_id\": transaction_ids,\n",
        "        \"timestamp\": transaction_timestamps,\n",
        "        \"best_bid_price\": [b.price if b is not None else None for b in best_bids],\n",
        "        \"best_bid_size\": [\n",
        "            order_size_at_transaction(b, t) if b is not None else None\n",
        "            for b, t in zip(best_bids, transaction_ids)\n",
        "        ],\n",
        "        \"best_offer_price\": [o.price if o is not None else None for o in best_offers],\n",
        "        \"best_offer_size\": [\n",
        "            order_size_at_transaction(o, t) if o is not None else None\n",
        "            for o, t in zip(best_offers, transaction_ids)\n",
        "        ]\n",
        "    })\n",
        "    return df.drop_duplicates(\n",
        "        subset=[\"best_bid_price\", \"best_bid_size\", \"best_offer_price\", \"best_offer_size\"]\n",
        "    ).set_index(\"transaction_id\")"
      ]
    },
    {
      "cell_type": "code",
      "execution_count": null,
      "metadata": {},
      "outputs": [
        {
          "data": {
            "image/png": "[encoded data removed]",
            "text/plain": [
              "<Figure size 640x480 with 1 Axes>"
            ]
          },
          "metadata": {},
          "output_type": "display_data"
        }
      ],
      "source": [
        "bbo_history = get_bbo_history(\"alpha_tradewars\")\n",
        "fig, ax = plt.subplots()\n",
        "_ = ax.plot(bbo_history.timestamp, bbo_history.best_bid_price, color=\"green\")\n",
        "_ = ax.plot(bbo_history.timestamp, bbo_history.best_offer_price, color=\"red\")"
      ]
    },
    {
      "cell_type": "code",
      "execution_count": null,
      "metadata": {},
      "outputs": [],
      "source": [
        "def get_market_positions(market_name: str):\n",
        "    df = get_market_trades(market_name)\n",
        "    if df.empty:\n",
        "        return pd.DataFrame()\n",
        "    return pd.concat([\n",
        "        df.groupby(\"buyer\")[\"size\"].sum(),\n",
        "        -df.groupby(\"seller\")[\"size\"].sum()\n",
        "    ]).groupby(level=0).sum()\n",
        "\n",
        "def get_multiple_market_positions(market_names: list[str]):\n",
        "    return pd.DataFrame({market: get_market_positions(market) for market in market_names}).fillna(0)"
      ]
    },
    {
      "cell_type": "code",
      "execution_count": 10,
      "metadata": {},
      "outputs": [
        {
          "name": "stdout",
          "output_type": "stream",
          "text": [
            "[{'id': 0, 'name': 'Hidden', 'value': None}, {'id': 1, 'name': 'Ross Rheingans-Yoo', 'value': None}, {'id': 2, 'name': 'Nicholas Charette', 'value': None}, {'id': 3, 'name': 'Yoav Tzfati', 'value': None}, {'id': 4, 'name': 'Mark Rychnovsky', 'value': None}, {'id': 5, 'name': 'Ricki Heicklen', 'value': None}, {'id': 6, 'name': 'Tanmay Khale', 'value': None}, {'id': 7, 'name': 'Nicholas Charette-82b3972', 'value': None}, {'id': 8, 'name': 'Matt Connor', 'value': None}, {'id': 9, 'name': 'Elizabeth Garrett', 'value': None}, {'id': 10, 'name': 'Bogdan Enache', 'value': None}, {'id': 11, 'name': 'Rachel Weinberg', 'value': None}, {'id': 12, 'name': 'Andy Rapista', 'value': None}, {'id': 13, 'name': 'Ethan Anderson', 'value': None}, {'id': 14, 'name': 'Neal Shrestha', 'value': None}, {'id': 15, 'name': 'Tony Deng', 'value': Portfolio(account_id=15, total_balance=1127.0048, available_balance=1127.0048, market_exposures=[], owner_credits=[])}, {'id': 16, 'name': 'Paul Yea', 'value': None}, {'id': 17, 'name': 'Sameer Bhatti', 'value': None}, {'id': 18, 'name': 'Kasra Danesh', 'value': None}, {'id': 19, 'name': 'Mihkel Viires', 'value': None}, {'id': 20, 'name': 'darsh jain', 'value': None}, {'id': 21, 'name': 'Michael Sienko', 'value': None}, {'id': 22, 'name': 'alexander ?', 'value': None}, {'id': 23, 'name': 'Sub-acct-one', 'value': None}, {'id': 24, 'name': 'TA', 'value': None}, {'id': 25, 'name': 'Alt', 'value': None}, {'id': 26, 'name': 'Beanbag', 'value': None}, {'id': 27, 'name': \"Kasra's alt\", 'value': None}, {'id': 28, 'name': 'thegoats', 'value': None}, {'id': 29, 'name': 'test share ', 'value': None}, {'id': 30, 'name': 'R&B', 'value': None}, {'id': 31, 'name': 'test share', 'value': None}, {'id': 32, 'name': 'TonyMichael', 'value': Portfolio(account_id=32, total_balance=0.0, available_balance=0.0, market_exposures=[PortfolioMarketExposure(market_id=20, position=0.0, total_bid_size=0.0, total_offer_size=0.0, total_bid_value=0.0, total_offer_value=0.0)], owner_credits=[PortfolioOwnerCredit(owner_id=15, credit=0.0), PortfolioOwnerCredit(owner_id=21, credit=0.0)])}, {'id': 33, 'name': 'Test#1', 'value': None}, {'id': 34, 'name': 'DK2', 'value': None}, {'id': 35, 'name': 'Noa Nabeshima', 'value': None}, {'id': 36, 'name': 'Robert', 'value': None}, {'id': 37, 'name': 'alt', 'value': None}, {'id': 38, 'name': 'HAL', 'value': None}, {'id': 39, 'name': 'empty', 'value': None}, {'id': 40, 'name': 'team-b', 'value': None}, {'id': 41, 'name': 'thursday_5', 'value': None}, {'id': 42, 'name': 'thursday_3', 'value': None}, {'id': 43, 'name': 'thursday_0', 'value': None}, {'id': 44, 'name': 'thursday_6', 'value': None}, {'id': 45, 'name': 'thursday_1', 'value': Portfolio(account_id=45, total_balance=0.0001, available_balance=0.0001, market_exposures=[], owner_credits=[PortfolioOwnerCredit(owner_id=3, credit=0.0001), PortfolioOwnerCredit(owner_id=15, credit=0.0), PortfolioOwnerCredit(owner_id=16, credit=0.0), PortfolioOwnerCredit(owner_id=17, credit=0.0)])}, {'id': 46, 'name': 'thursday_4', 'value': None}, {'id': 47, 'name': 'thursday_2', 'value': None}, {'id': 48, 'name': 'Alice', 'value': None}, {'id': 49, 'name': 'th_0', 'value': None}, {'id': 50, 'name': 'th_1', 'value': None}, {'id': 51, 'name': 'th_2', 'value': None}, {'id': 52, 'name': 'th_3', 'value': None}, {'id': 53, 'name': 'th_4', 'value': Portfolio(account_id=53, total_balance=0.0001, available_balance=0.0001, market_exposures=[], owner_credits=[PortfolioOwnerCredit(owner_id=3, credit=0.0001), PortfolioOwnerCredit(owner_id=15, credit=0.0), PortfolioOwnerCredit(owner_id=16, credit=0.0), PortfolioOwnerCredit(owner_id=17, credit=0.0)])}, {'id': 54, 'name': 'th_mark', 'value': None}, {'id': 55, 'name': 'th_alice', 'value': None}, {'id': 56, 'name': 'th_eve_2', 'value': None}, {'id': 57, 'name': 'th_eve_4', 'value': None}, {'id': 58, 'name': 'th_eve_0', 'value': None}, {'id': 59, 'name': 'th_eve_6', 'value': None}, {'id': 60, 'name': 'th_eve_1', 'value': Portfolio(account_id=60, total_balance=0.0001, available_balance=0.0001, market_exposures=[], owner_credits=[PortfolioOwnerCredit(owner_id=3, credit=0.0001), PortfolioOwnerCredit(owner_id=15, credit=0.0), PortfolioOwnerCredit(owner_id=16, credit=0.0), PortfolioOwnerCredit(owner_id=17, credit=0.0)])}, {'id': 61, 'name': 'th_eve_3', 'value': None}, {'id': 62, 'name': 'th_eve_5', 'value': None}, {'id': 63, 'name': 'cross_red', 'value': None}, {'id': 64, 'name': 'cross_blue', 'value': None}, {'id': 65, 'name': 'cross_green', 'value': None}, {'id': 66, 'name': 'cross_yellow', 'value': None}, {'id': 67, 'name': 'cross_mark', 'value': None}, {'id': 68, 'name': 'cross_bob', 'value': None}, {'id': 69, 'name': 'cross_alice', 'value': None}, {'id': 70, 'name': 'Yoav NoAdmin', 'value': None}, {'id': 71, 'name': 'cross_eve_red', 'value': Portfolio(account_id=71, total_balance=0.0, available_balance=0.0, market_exposures=[], owner_credits=[PortfolioOwnerCredit(owner_id=3, credit=0.0), PortfolioOwnerCredit(owner_id=15, credit=0.0), PortfolioOwnerCredit(owner_id=19, credit=0.0)])}, {'id': 72, 'name': 'cross_eve_blue', 'value': None}, {'id': 73, 'name': 'cross_eve_green', 'value': None}, {'id': 74, 'name': 'cross_eve_yellow', 'value': None}, {'id': 75, 'name': 'cross_eve_mark', 'value': None}, {'id': 76, 'name': 'cross_eve_bob', 'value': None}, {'id': 77, 'name': 'sat_Water', 'value': None}, {'id': 78, 'name': 'sat_Fire', 'value': None}, {'id': 79, 'name': 'sat_Grass', 'value': None}, {'id': 80, 'name': 'sat_Electric', 'value': Portfolio(account_id=80, total_balance=2880.7601, available_balance=2880.7601, market_exposures=[], owner_credits=[PortfolioOwnerCredit(owner_id=3, credit=0.0002), PortfolioOwnerCredit(owner_id=13, credit=960.2533), PortfolioOwnerCredit(owner_id=14, credit=960.2533), PortfolioOwnerCredit(owner_id=15, credit=960.2533)])}, {'id': 81, 'name': 'sat_Ghost', 'value': None}, {'id': 82, 'name': 'sat_mark', 'value': None}, {'id': 83, 'name': 'sat_bob', 'value': None}, {'id': 84, 'name': 'sat_alice', 'value': None}]\n"
          ]
        }
      ],
      "source": [
        "state = client.state()\n",
        "accounts = [{\"id\": account.id, \"name\": account.name, \"value\": state.portfolios.get(account.id)} for account in state.accounts]\n",
        "print(accounts)"
      ]
    }
  ],
  "metadata": {
    "kernelspec": {
      "display_name": ".venv",
      "language": "python",
      "name": "python3"
    },
    "language_info": {
      "codemirror_mode": {
        "name": "ipython",
        "version": 3
      },
      "file_extension": ".py",
      "mimetype": "text/x-python",
      "name": "python",
      "nbconvert_exporter": "python",
      "pygments_lexer": "ipython3",
      "version": "3.12.8"
    }
  },
  "nbformat": 4,
  "nbformat_minor": 2
}
