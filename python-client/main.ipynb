{
  "cells": [
    {
      "cell_type": "code",
      "execution_count": 194,
      "metadata": {},
      "outputs": [],
      "source": [
        "from dotenv import load_dotenv\n",
        "from metagame import TradingClient\n",
        "import os\n",
        "\n",
        "load_dotenv()\n",
        "\n",
        "client = TradingClient(\n",
        "    api_url=os.environ[\"API_URL\"],\n",
        "    jwt=os.environ[\"JWT\"],\n",
        "    act_as=0,\n",
        ")"
      ]
    },
    {
      "cell_type": "code",
      "execution_count": 195,
      "metadata": {},
      "outputs": [],
      "source": [
        "import pandas as pd\n",
        "\n",
        "def get_market_trades(market_name: str):\n",
        "    state = client.state()\n",
        "    market_id = state.market_name_to_id.get(market_name)    \n",
        "    if market_id is None:\n",
        "        return pd.DataFrame()\n",
        "\n",
        "    if not state.markets[market_id].hasFullTradeHistory:\n",
        "        client.get_full_trade_history(market_id)\n",
        "        state = client.state()\n",
        "\n",
        "    trades = state.markets[market_id].trades\n",
        "    if not trades:\n",
        "        return pd.DataFrame()\n",
        "    df = pd.DataFrame(trades).set_index(\"id\")\n",
        "    df[\"buyer\"] = df[\"buyer_id\"].map(lambda x: state.accounts[x].name)\n",
        "    df[\"seller\"] = df[\"seller_id\"].map(lambda x: state.accounts[x].name)\n",
        "    df[\"timestamp\"] = df[\"transaction_id\"].map(lambda x: state.transactions[x])\n",
        "    return df.drop(columns=[\"market_id\", \"buyer_id\", \"seller_id\", \"transaction_id\"])\n"
      ]
    },
    {
      "cell_type": "code",
      "execution_count": 202,
      "metadata": {},
      "outputs": [],
      "source": [
        "def get_market_positions(market_name: str):\n",
        "    df = get_market_trades(market_name)\n",
        "    if df.empty:\n",
        "        return pd.DataFrame()\n",
        "    return pd.concat([\n",
        "        df.groupby(\"buyer\")[\"size\"].sum(),\n",
        "        -df.groupby(\"seller\")[\"size\"].sum()\n",
        "    ]).groupby(level=0).sum()\n",
        "\n",
        "def get_multiple_market_positions(market_names: list[str]):\n",
        "    return pd.DataFrame({market: get_market_positions(market) for market in market_names}).fillna(0)\n",
        "\n",
        "def get_market_avg_fills(market_name: str):\n",
        "    df = get_market_trades(market_name)\n",
        "    if df.empty:\n",
        "        return pd.DataFrame()\n",
        "    df[\"fill_size\"] = df[\"size\"] * df[\"price\"]\n",
        "    contracts_bought = df.groupby(\"buyer\")[\"size\"].sum()\n",
        "    contracts_sold = df.groupby(\"seller\")[\"size\"].sum()\n",
        "    buy_fills = df.groupby(\"buyer\")[\"fill_size\"].sum()\n",
        "    sell_fills = df.groupby(\"seller\")[\"fill_size\"].sum()\n",
        "    avg_buy_fill = buy_fills / contracts_bought\n",
        "    avg_sell_fill = sell_fills / contracts_sold\n",
        "    last_price = df.iloc[-1][\"price\"]\n",
        "    df = pd.DataFrame({\n",
        "        \"contracts_bought\": contracts_bought,\n",
        "        \"contracts_sold\": contracts_sold,\n",
        "        \"avg_buy_fill\": avg_buy_fill,\n",
        "        \"avg_sell_fill\": avg_sell_fill,\n",
        "    }).fillna(0)\n",
        "    df[\"position\"] = df.contracts_bought - df.contracts_sold\n",
        "    df[\"mtm\"] = df.position * last_price - df.avg_buy_fill * df.contracts_bought + df.avg_sell_fill * df.contracts_sold\n",
        "    return df\n"
      ]
    },
    {
      "cell_type": "code",
      "execution_count": 203,
      "metadata": {},
      "outputs": [
        {
          "data": {
            "application/vnd.jupyter.widget-view+json": {
              "model_id": "f0241fd1991442b29e96cea0d85992cc",
              "version_major": 2,
              "version_minor": 0
            },
            "text/plain": [
              "interactive(children=(Checkbox(value=False, description='Refresh Data'), Output()), _dom_classes=('widget-inte…"
            ]
          },
          "metadata": {},
          "output_type": "display_data"
        },
        {
          "data": {
            "text/plain": [
              "<function __main__.get_dice(refresh)>"
            ]
          },
          "execution_count": 203,
          "metadata": {},
          "output_type": "execute_result"
        }
      ],
      "source": [
        "import ipywidgets as widgets\n",
        "\n",
        "def get_dice(refresh):\n",
        "    markets = [\"min_dice_c\", \"max_dice_c\", \"avg_dice_c\"]\n",
        "    dfs = []\n",
        "    for market in markets:\n",
        "        df = get_market_avg_fills(market)\n",
        "        df.index = pd.MultiIndex.from_product([[market], df.index])\n",
        "        dfs.append(df)\n",
        "    return pd.concat(dfs)\n",
        "\n",
        "widgets.interact(get_dice, refresh=widgets.Checkbox(description=\"Refresh Data\"))\n"
      ]
    }
  ],
  "metadata": {
    "kernelspec": {
      "display_name": ".venv",
      "language": "python",
      "name": "python3"
    },
    "language_info": {
      "codemirror_mode": {
        "name": "ipython",
        "version": 3
      },
      "file_extension": ".py",
      "mimetype": "text/x-python",
      "name": "python",
      "nbconvert_exporter": "python",
      "pygments_lexer": "ipython3",
      "version": "3.12.5"
    }
  },
  "nbformat": 4,
  "nbformat_minor": 2
}
