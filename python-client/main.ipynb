{
  "cells": [
    {
      "cell_type": "code",
      "execution_count": 4,
      "metadata": {},
      "outputs": [],
      "source": [
        "from dotenv import load_dotenv\n",
        "from metagame import TradingClient\n",
        "import os\n",
        "\n",
        "load_dotenv()\n",
        "\n",
        "client = TradingClient(\n",
        "    api_url=os.environ[\"API_URL\"],\n",
        "    jwt=os.environ[\"JWT\"],\n",
        "    act_as=int(os.environ[\"ACT_AS\"]),\n",
        ")"
      ]
    },
    {
      "cell_type": "code",
      "execution_count": 5,
      "metadata": {},
      "outputs": [],
      "source": [
        "import pandas as pd\n",
        "\n",
        "def get_trades(state, market_id:int):\n",
        "    if not state.markets[market_id].hasFullTradeHistory:\n",
        "        client.get_full_trade_history(market_id)\n",
        "        state = client.state()\n",
        "    return state.markets[market_id].trades\n",
        "\n",
        "def get_market_trades(market_name: str):\n",
        "    state = client.state()\n",
        "    market_id = state.market_name_to_id.get(market_name)\n",
        "    if market_id is None:\n",
        "        return pd.DataFrame()\n",
        "    \n",
        "    trades = get_trades(state, market_id)\n",
        "    \n",
        "    if not trades:\n",
        "        return pd.DataFrame()\n",
        "    df = pd.DataFrame(trades).set_index(\"id\")\n",
        "    df[\"buyer\"] = df[\"buyer_id\"].map(lambda x: state.accounts[x].name)\n",
        "    df[\"seller\"] = df[\"seller_id\"].map(lambda x: state.accounts[x].name)\n",
        "    df[\"timestamp\"] = df[\"transaction_id\"].map(lambda x: state.transactions[x])\n",
        "    return df.drop(columns=[\"market_id\", \"buyer_id\", \"seller_id\", \"transaction_id\"])\n"
      ]
    },
    {
      "cell_type": "code",
      "execution_count": 6,
      "metadata": {},
      "outputs": [],
      "source": [
        "def get_market_positions(market_name: str):\n",
        "    df = get_market_trades(market_name)\n",
        "    if df.empty:\n",
        "        return pd.DataFrame()\n",
        "    return pd.concat([\n",
        "        df.groupby(\"buyer\")[\"size\"].sum(),\n",
        "        -df.groupby(\"seller\")[\"size\"].sum()\n",
        "    ]).groupby(level=0).sum()\n",
        "\n",
        "def get_multiple_market_positions(market_names: list[str]):\n",
        "    return pd.DataFrame({market: get_market_positions(market) for market in market_names}).fillna(0)"
      ]
    },
    {
      "cell_type": "code",
      "execution_count": 7,
      "metadata": {},
      "outputs": [
        {
          "data": {
            "application/vnd.jupyter.widget-view+json": {
              "model_id": "050872d8fb114ed3b231847022e13041",
              "version_major": 2,
              "version_minor": 0
            },
            "text/plain": [
              "interactive(children=(Checkbox(value=False, description='Refresh Data'), Output()), _dom_classes=('widget-inte…"
            ]
          },
          "metadata": {},
          "output_type": "display_data"
        },
        {
          "data": {
            "text/plain": [
              "<function __main__.get_dice(refresh)>"
            ]
          },
          "execution_count": 7,
          "metadata": {},
          "output_type": "execute_result"
        }
      ],
      "source": [
        "import ipywidgets as widgets\n",
        "\n",
        "def get_dice(refresh):\n",
        "    markets = [\"min_dice_c\", \"max_dice_c\", \"avg_dice_c\"]\n",
        "    return get_multiple_market_positions(markets)\n",
        "\n",
        "widgets.interact(get_dice, refresh=widgets.Checkbox(description=\"Refresh Data\"))"
      ]
    },
    {
      "cell_type": "code",
      "execution_count": 8,
      "metadata": {},
      "outputs": [],
      "source": [
        "market_name = \"min_dice_c\"\n",
        "state = client.state()\n",
        "\n",
        "market_id = state.market_name_to_id.get(market_name)\n",
        "\n",
        "trades = get_trades(state, market_id)"
      ]
    },
    {
      "cell_type": "code",
      "execution_count": 12,
      "metadata": {},
      "outputs": [
        {
          "name": "stdout",
          "output_type": "stream",
          "text": [
            "Trade(id=316, market_id=19, transaction_id=1833, price=4.0, size=1.0, buyer_id=66, seller_id=0)\n",
            "Trade(id=318, market_id=20, transaction_id=1858, price=17.0, size=10.0, buyer_id=0, seller_id=0)\n",
            "Trade(id=315, market_id=21, transaction_id=1819, price=9.0, size=1.0, buyer_id=0, seller_id=0)\n"
          ]
        }
      ],
      "source": [
        "for ii, market in state.markets.items():\n",
        "    for trade in market.trades:\n",
        "        print(trade)\n",
        "        break"
      ]
    },
    {
      "cell_type": "code",
      "execution_count": null,
      "metadata": {},
      "outputs": [],
      "source": []
    },
    {
      "cell_type": "code",
      "execution_count": null,
      "metadata": {},
      "outputs": [
        {
          "ename": "",
          "evalue": "",
          "output_type": "error",
          "traceback": [
            "\u001b[1;31mnotebook controller is DISPOSED. \n",
            "\u001b[1;31mView Jupyter <a href='command:jupyter.viewOutput'>log</a> for further details."
          ]
        },
        {
          "ename": "",
          "evalue": "",
          "output_type": "error",
          "traceback": [
            "\u001b[1;31mnotebook controller is DISPOSED. \n",
            "\u001b[1;31mView Jupyter <a href='command:jupyter.viewOutput'>log</a> for further details."
          ]
        }
      ],
      "source": [
        "settle_price = state.markets[market_id].definition.closed.settle_price\n",
        "print(f\"Settle Price: {settle_price}\")"
      ]
    },
    {
      "cell_type": "code",
      "execution_count": null,
      "metadata": {},
      "outputs": [
        {
          "ename": "",
          "evalue": "",
          "output_type": "error",
          "traceback": [
            "\u001b[1;31mnotebook controller is DISPOSED. \n",
            "\u001b[1;31mView Jupyter <a href='command:jupyter.viewOutput'>log</a> for further details."
          ]
        },
        {
          "ename": "",
          "evalue": "",
          "output_type": "error",
          "traceback": [
            "\u001b[1;31mnotebook controller is DISPOSED. \n",
            "\u001b[1;31mView Jupyter <a href='command:jupyter.viewOutput'>log</a> for further details."
          ]
        }
      ],
      "source": [
        "my_name = \"dice_c_1\"\n",
        "my_id = next((ac for ac in state.accounts if ac.name == my_name)).id\n",
        "my_id"
      ]
    },
    {
      "cell_type": "code",
      "execution_count": null,
      "metadata": {},
      "outputs": [
        {
          "ename": "",
          "evalue": "",
          "output_type": "error",
          "traceback": [
            "\u001b[1;31mnotebook controller is DISPOSED. \n",
            "\u001b[1;31mView Jupyter <a href='command:jupyter.viewOutput'>log</a> for further details."
          ]
        },
        {
          "ename": "",
          "evalue": "",
          "output_type": "error",
          "traceback": [
            "\u001b[1;31mnotebook controller is DISPOSED. \n",
            "\u001b[1;31mView Jupyter <a href='command:jupyter.viewOutput'>log</a> for further details."
          ]
        }
      ],
      "source": [
        "for tr in trades:\n",
        "    if tr.seller_id == my_id:\n",
        "        print('s',tr.price, tr.size, ( tr.price - settle_price ) * tr.size)\n",
        "    elif tr.buyer_id == my_id:\n",
        "        print('b', tr.price, tr.size, round((settle_price- tr.price ) * tr.size, 2))"
      ]
    },
    {
      "cell_type": "code",
      "execution_count": null,
      "metadata": {},
      "outputs": [
        {
          "ename": "",
          "evalue": "",
          "output_type": "error",
          "traceback": [
            "\u001b[1;31mnotebook controller is DISPOSED. \n",
            "\u001b[1;31mView Jupyter <a href='command:jupyter.viewOutput'>log</a> for further details."
          ]
        },
        {
          "ename": "",
          "evalue": "",
          "output_type": "error",
          "traceback": [
            "\u001b[1;31mnotebook controller is DISPOSED. \n",
            "\u001b[1;31mView Jupyter <a href='command:jupyter.viewOutput'>log</a> for further details."
          ]
        }
      ],
      "source": [
        "market_name = \"min_dice_c\"\n",
        "df = get_market_trades(market_name)"
      ]
    },
    {
      "cell_type": "code",
      "execution_count": null,
      "metadata": {},
      "outputs": [
        {
          "ename": "",
          "evalue": "",
          "output_type": "error",
          "traceback": [
            "\u001b[1;31mnotebook controller is DISPOSED. \n",
            "\u001b[1;31mView Jupyter <a href='command:jupyter.viewOutput'>log</a> for further details."
          ]
        },
        {
          "ename": "",
          "evalue": "",
          "output_type": "error",
          "traceback": [
            "\u001b[1;31mnotebook controller is DISPOSED. \n",
            "\u001b[1;31mView Jupyter <a href='command:jupyter.viewOutput'>log</a> for further details."
          ]
        }
      ],
      "source": [
        "my_account = \"dice_c_1\"\n",
        "df[df[\"buyer\"] == my_account]"
      ]
    }
  ],
  "metadata": {
    "kernelspec": {
      "display_name": ".venv",
      "language": "python",
      "name": "python3"
    },
    "language_info": {
      "codemirror_mode": {
        "name": "ipython",
        "version": 3
      },
      "file_extension": ".py",
      "mimetype": "text/x-python",
      "name": "python",
      "nbconvert_exporter": "python",
      "pygments_lexer": "ipython3",
      "version": "3.12.8"
    }
  },
  "nbformat": 4,
  "nbformat_minor": 2
}
