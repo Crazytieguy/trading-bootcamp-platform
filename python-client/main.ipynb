{
 "cells": [
  {
   "cell_type": "code",
   "execution_count": 1,
   "metadata": {},
   "outputs": [],
   "source": [
    "from dotenv import load_dotenv\n",
    "from metagame import TradingClient\n",
    "import os\n",
    "\n",
    "load_dotenv()\n",
    "\n",
    "client = TradingClient(\n",
    "    api_url=os.environ[\"API_URL\"],\n",
    "    jwt=os.environ[\"JWT\"],\n",
    "    act_as=int(os.environ[\"ACT_AS\"]),\n",
    ")"
   ]
  },
  {
   "cell_type": "code",
   "execution_count": 11,
   "metadata": {},
   "outputs": [
    {
     "data": {
      "application/vnd.jupyter.widget-view+json": {
       "model_id": "06a2fc2628384250a4c2a7930acd7649",
       "version_major": 2,
       "version_minor": 0
      },
      "text/plain": [
       "interactive(children=(Combobox(value='', description='Market:', ensure_option=True, options=('5', 'test_1', 'h…"
      ]
     },
     "metadata": {},
     "output_type": "display_data"
    },
    {
     "data": {
      "application/vnd.jupyter.widget-view+json": {
       "model_id": "4edb5a8f31c644deb8f121618e8bac7a",
       "version_major": 2,
       "version_minor": 0
      },
      "text/plain": [
       "interactive(children=(Combobox(value='', continuous_update=False, description='Market:', ensure_option=True, o…"
      ]
     },
     "metadata": {},
     "output_type": "display_data"
    }
   ],
   "source": [
    "import ipywidgets as widgets\n",
    "import pandas as pd\n",
    "\n",
    "def market_selector():\n",
    "    state = client.state()\n",
    "    open_markets = [market.definition.name for market in state.markets.values() if market.definition.open]\n",
    "    return widgets.Combobox(\n",
    "        placeholder='Choose a market',\n",
    "        options=open_markets,\n",
    "        description='Market:',\n",
    "        ensure_option=True,\n",
    "        disabled=False\n",
    "    )\n",
    "\n",
    "def get_market_orders(market_name):\n",
    "    state = client.state()\n",
    "    market_id = state.market_name_to_id.get(market_name)\n",
    "    if market_id is None:\n",
    "        return pd.DataFrame()\n",
    "    orders = state.markets[market_id].orders\n",
    "    return pd.DataFrame(orders)\n",
    "\n",
    "def clear_market_orders(market_name):\n",
    "    state = client.state()\n",
    "    market_id = state.market_name_to_id.get(market_name)\n",
    "    if market_id is None:\n",
    "        return\n",
    "    client.out(market_id)\n",
    "    return f\"Cleared orders for {market_name}\"\n",
    "\n",
    "\n",
    "orders_widget = widgets.interact(get_market_orders, market_name=market_selector())\n",
    "\n",
    "out_widget = widgets.interact_manual(clear_market_orders, market_name=market_selector())\n"
   ]
  },
  {
   "cell_type": "code",
   "execution_count": 2,
   "metadata": {},
   "outputs": [
    {
     "data": {
      "application/vnd.jupyter.widget-view+json": {
       "model_id": "4a4d78e381c24444a6c772196d937786",
       "version_major": 2,
       "version_minor": 0
      },
      "text/plain": [
       "QgridWidget(grid_options={'fullWidthRows': True, 'syncColumnCellResize': True, 'forceFitColumns': True, 'defau…"
      ]
     },
     "metadata": {},
     "output_type": "display_data"
    }
   ],
   "source": [
    "import pandas as pd\n",
    "import qgrid\n",
    "# Your existing code to get trades\n",
    "state = client.state()\n",
    "market_name = \"test_2\"\n",
    "market_id = state.market_name_to_id[market_name]\n",
    "if not state.markets[market_id].hasFullTradeHistory:\n",
    "    client.get_full_trade_history(market_id)\n",
    "    state = client.state()\n",
    "trades = state.markets[market_id].trades\n",
    "\n",
    "qgrid.show_grid(pd.DataFrame(trades), show_toolbar=True)\n"
   ]
  },
  {
   "cell_type": "code",
   "execution_count": null,
   "metadata": {},
   "outputs": [],
   "source": []
  }
 ],
 "metadata": {
  "kernelspec": {
   "display_name": ".venv",
   "language": "python",
   "name": "python3"
  },
  "language_info": {
   "codemirror_mode": {
    "name": "ipython",
    "version": 3
   },
   "file_extension": ".py",
   "mimetype": "text/x-python",
   "name": "python",
   "nbconvert_exporter": "python",
   "pygments_lexer": "ipython3",
   "version": "3.12.5"
  }
 },
 "nbformat": 4,
 "nbformat_minor": 2
}
