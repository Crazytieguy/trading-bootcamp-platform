{
  "cells": [
    {
      "cell_type": "code",
      "execution_count": 1,
      "metadata": {},
      "outputs": [],
      "source": [
        "\n",
        "from dotenv import load_dotenv, dotenv_values\n",
        "from metagame import TradingClient\n",
        "import os\n",
        "\n",
        "env = dotenv_values()\n",
        "\n",
        "client = TradingClient(\n",
        "    api_url=env[\"API_URL\"],\n",
        "    jwt=env[\"JWT\"],\n",
        "    act_as=int(env[\"ACT_AS\"]),\n",
        ")"
      ]
    },
    {
      "cell_type": "code",
      "execution_count": 2,
      "metadata": {},
      "outputs": [
        {
          "name": "stdout",
          "output_type": "stream",
          "text": [
            "\u001b[92mWarning: No active frommets remain. Continue?\u001b[0m\n"
          ]
        }
      ],
      "source": [
        "class bcolors:\n",
        "    HEADER = '\\033[95m'\n",
        "    OKBLUE = '\\033[94m'\n",
        "    OKCYAN = '\\033[96m'\n",
        "    OKGREEN = '\\033[92m'\n",
        "    WARNING = '\\033[93m'\n",
        "    RED = '\\033[91m'\n",
        "    ENDC = '\\033[0m'\n",
        "    BOLD = '\\033[1m'\n",
        "    UNDERLINE = '\\033[4m'\n",
        "\n",
        "print(bcolors.OKGREEN + \"Warning: No active frommets remain. Continue?\" + bcolors.ENDC)\n"
      ]
    },
    {
      "cell_type": "code",
      "execution_count": 3,
      "metadata": {},
      "outputs": [],
      "source": [
        "import pandas as pd\n",
        "\n",
        "def get_trades(state, market_id:int):\n",
        "    if not state.markets[market_id].hasFullTradeHistory:\n",
        "        client.get_full_trade_history(market_id)\n",
        "        state = client.state()\n",
        "    return state.markets[market_id].trades\n",
        "\n",
        "def get_market_trades(market_name: str):\n",
        "    state = client.state()\n",
        "    market_id = state.market_name_to_id.get(market_name)\n",
        "    if market_id is None:\n",
        "        return pd.DataFrame()\n",
        "    \n",
        "    trades = get_trades(state, market_id)\n",
        "    \n",
        "    if not trades:\n",
        "        return pd.DataFrame()\n",
        "    df = pd.DataFrame(trades).set_index(\"id\")\n",
        "    df[\"buyer\"] = df[\"buyer_id\"].map(lambda x: state.accounts[x].name)\n",
        "    df[\"seller\"] = df[\"seller_id\"].map(lambda x: state.accounts[x].name)\n",
        "    df[\"timestamp\"] = df[\"transaction_id\"].map(lambda x: state.transactions[x])\n",
        "    return df.drop(columns=[\"market_id\", \"buyer_id\", \"seller_id\", \"transaction_id\"])"
      ]
    },
    {
      "cell_type": "code",
      "execution_count": 4,
      "metadata": {},
      "outputs": [],
      "source": [
        "def get_market_positions(market_name: str):\n",
        "    df = get_market_trades(market_name)\n",
        "    if df.empty:\n",
        "        return pd.DataFrame()\n",
        "    return pd.concat([\n",
        "        df.groupby(\"buyer\")[\"size\"].sum(),\n",
        "        -df.groupby(\"seller\")[\"size\"].sum()\n",
        "    ]).groupby(level=0).sum()\n",
        "\n",
        "def get_multiple_market_positions(market_names: list[str]):\n",
        "    return pd.DataFrame({market: get_market_positions(market) for market in market_names}).fillna(0)"
      ]
    },
    {
      "cell_type": "code",
      "execution_count": 5,
      "metadata": {},
      "outputs": [],
      "source": [
        "import ipywidgets as widgets\n",
        "\n",
        "def get_dice(refresh):\n",
        "    markets = [\"min_dice_c\", \"max_dice_c\", \"avg_dice_c\"]\n",
        "    return get_multiple_market_positions(markets)\n",
        "\n",
        "# widgets.interact(get_dice, refresh=widgets.Checkbox(description=\"Refresh Data\"))"
      ]
    },
    {
      "cell_type": "code",
      "execution_count": 16,
      "metadata": {},
      "outputs": [],
      "source": [
        "side_dict= {1:\"bid\", 2:\"offer\"}\n",
        "\n",
        "def get_prices(market):\n",
        "    # highest bid\n",
        "    try:\n",
        "        bid = max((order for order in market.orders if order.side==1), key=lambda x: -x.price)\n",
        "        bid_price = bid.price\n",
        "        bid_size = bid.size\n",
        "    except IndexError:\n",
        "        bid_price = -float(\"inf\")\n",
        "        bid_size = 0\n",
        "    # lowest offer\n",
        "    try:\n",
        "        offer = min((order for order in market.orders if order.side==2), key=lambda x: x.price)\n",
        "        offer_price = offer.price\n",
        "        offer_size = offer.size\n",
        "    except IndexError:\n",
        "        offer_price = float(\"inf\")\n",
        "        offer_size = 0\n",
        "    return {\"bid\": bid_price, \"offer\": offer_price, \"bid_size\": bid_size, \"offer_size\": offer_size}\n",
        "\n",
        "\n",
        "def get_market_prices(client, /, market_name: str | None = None, market_id: int | None = None):\n",
        "    state = client.state()\n",
        "    if market_id is None:\n",
        "        market_id = state.market_name_to_id.get(market_name)\n",
        "    market = state.markets[market_id]\n",
        "    return get_prices(market)"
      ]
    },
    {
      "cell_type": "code",
      "execution_count": 7,
      "metadata": {},
      "outputs": [],
      "source": [
        "from pydantic import BaseModel, ConfigDict\n",
        "\n",
        "s MarketPrices(BaseModel):\n",
        "    id: int\n",
        "    name: str\n",
        "    bid: float\n",
        "    offer: float\n",
        "    bid_size: float = 0\n",
        "    offer_size: float = 0\n",
        "    model_config = ConfigDict(arbitrary_types_allowed=True)\n",
        "\n",
        "    @classmethod\n",
        "    def from_client(cls, client, /, name: str | None = None, id: int | None = None):\n",
        "        state = client.state()\n",
        "        if id is None:\n",
        "            id = state.market_name_to_id.get(name)\n",
        "        prices = get_market_prices(client, market_id=id)\n",
        "\n",
        "        return cls(#client = client, \n",
        "                         id = id,\n",
        "                         name=name,\n",
        "                         bid = prices[\"bid\"], \n",
        "                         offer = prices[\"offer\"],\n",
        "                         bid_size = prices[\"bid_size\"],\n",
        "                         offer_size = prices[\"offer_size\"]\n",
        "                         )\n",
        "    \n",
        "    def __add__(self, other):\n",
        "        return MarketPrices(id=-1, name=self.name + ' + ' + other.name, \n",
        "                            bid=self.bid + other.bid, offer=self.offer + other.offer)\n",
        "    \n",
        "    def __mul__(self, other:float|int):\n",
        "        \n",
        "        return MarketPrices(id=-1, name=self.name + ' * ' + str(other), \n",
        "                            bid=self.bid * other, offer=self.offer * other)\n",
        "    def __sub__(self, other):\n",
        "        return MarketPrices(id=-1, name=self.name + ' - ' + other.name, \n",
        "                            bid=self.bid - other.bid, offer=self.offer - other.offer)\n"
      ]
    },
    {
      "cell_type": "code",
      "execution_count": 8,
      "metadata": {},
      "outputs": [],
      "source": [
        "market_name_a = \"test_mix_max\"\n",
        "prices_a = MarketPrices.from_client(client, market_name_a)\n",
        "# prices_a * 2\n",
        "\n",
        "state = client.state()\n",
        "market_name_b = \"Will any team go bankrupt via a rogue bot?\"\n",
        "prices_b = MarketPrices.from_client(client, market_name_b)\n",
        "# prices_b\n",
        "\n",
        "state = client.state()\n",
        "market_name_c = \"Will any team go bankrupt via a rogue bot?\"\n",
        "prices_c = MarketPrices.from_client(client, market_name_c)\n"
      ]
    },
    {
      "cell_type": "code",
      "execution_count": 14,
      "metadata": {},
      "outputs": [
        {
          "data": {
            "text/plain": [
              "MarketPrices(id=-1, name='test_mix_max * 2 + Will any team go bankrupt via a rogue bot? + Will any team go bankrupt via a rogue bot?', bid=0.0, offer=220.0)"
            ]
          },
          "execution_count": 14,
          "metadata": {},
          "output_type": "execute_result"
        }
      ],
      "source": [
        "etf_2a_b_c = prices_a * 2 + prices_b + prices_c\n",
        "etf_2a_b_c"
      ]
    },
    {
      "cell_type": "code",
      "execution_count": 13,
      "metadata": {},
      "outputs": [
        {
          "data": {
            "text/plain": [
              "MarketPrices(id=-1, name='test_mix_max * 1.4 + Will any team go bankrupt via a rogue bot? + Will any team go bankrupt via a rogue bot?', bid=0.0, offer=160.0)"
            ]
          },
          "execution_count": 13,
          "metadata": {},
          "output_type": "execute_result"
        }
      ],
      "source": [
        "raw_2a_b_c = prices_a * 1.4 + prices_b + prices_c\n",
        "raw_2a_b_c"
      ]
    },
    {
      "cell_type": "code",
      "execution_count": 15,
      "metadata": {},
      "outputs": [
        {
          "name": "stdout",
          "output_type": "stream",
          "text": [
            "\u001b[92mbuy ETF(2a + b + c) \u001b[0m \u001b[91msell raw (2a + b + c) \u001b[0m -160.0\n",
            "\u001b[92mraw ETF(2a + b) \u001b[0m \u001b[91msell ETF (2a + b) \u001b[0m -220.0\n"
          ]
        }
      ],
      "source": [
        "print(#\"buy ETF(2a+b) and sell raw (2a+b)\",\n",
        "      bcolors.OKGREEN + \"buy ETF(2a + b + c) \" + bcolors.ENDC,\n",
        "      bcolors.RED + \"sell raw (2a + b + c) \" + bcolors.ENDC,\n",
        "      etf_2a_b_c.bid - raw_2a_b_c.offer\n",
        "      )\n",
        "\n",
        "print(#\"buy raw (2a+b) and sell ETF(2a+b)\",\n",
        "      bcolors.OKGREEN + \"raw ETF(2a + b) \" + bcolors.ENDC,\n",
        "      bcolors.RED + \"sell ETF (2a + b) \" + bcolors.ENDC,\n",
        "      raw_2a_b_c.bid - etf_2a_b_c.offer\n",
        "      )"
      ]
    },
    {
      "cell_type": "code",
      "execution_count": 28,
      "metadata": {},
      "outputs": [
        {
          "data": {
            "text/plain": [
              "210.0"
            ]
          },
          "execution_count": 28,
          "metadata": {},
          "output_type": "execute_result"
        }
      ],
      "source": [
        "etf_2a_b.offer - raw_2a_b.bid"
      ]
    },
    {
      "cell_type": "code",
      "execution_count": 8,
      "metadata": {},
      "outputs": [
        {
          "name": "stdout",
          "output_type": "stream",
          "text": [
            "buy sum / sell avg: -377.5\n",
            "buy avg / sell sum: 124.6\n"
          ]
        }
      ],
      "source": [
        "factor = 5\n",
        "fee = 1\n",
        "\n",
        "market_name_a = \"talya_clips\"\n",
        "\n",
        "market_id_a = state.market_name_to_id.get(market_name_a)\n",
        "market_a = state.markets[market_id_a]\n",
        "prices_a = get_prices(market_a)\n",
        "\n",
        "market_name_b = \"age of youngest attendee\"\n",
        "market_id_b = state.market_name_to_id.get(market_name_b)\n",
        "market_b = state.markets[market_id_b]\n",
        "\n",
        "\n",
        "prices_b = get_prices(market_b)\n",
        "\n",
        "# prices_a = {\"offer\": 1, \"bid\": 2} # avg\n",
        "# prices_b = {\"offer\": 4.5, \"bid\": 6} # sum\n",
        "\n",
        "#                    avg                 sum\n",
        "a_to_b = - factor * prices_a[\"offer\"] + prices_b[\"bid\"] - fee\n",
        "\n",
        "#                  sum                 avg\n",
        "b_to_a = - prices_b[\"offer\"] + factor * prices_a[\"bid\"] - fee\n",
        "\n",
        "# print(f\"{market_name_a} -> {market_name_b}: {a_to_b}\")\n",
        "# print(f\"{market_name_b} -> {market_name_a}: {b_to_a}\")\n",
        "print(f\"buy sum / sell avg: {a_to_b}\")\n",
        "print(f\"buy avg / sell sum: {b_to_a}\")"
      ]
    }
  ],
  "metadata": {
    "kernelspec": {
      "display_name": "trading",
      "language": "python",
      "name": "python3"
    },
    "language_info": {
      "codemirror_mode": {
        "name": "ipython",
        "version": 3
      },
      "file_extension": ".py",
      "mimetype": "text/x-python",
      "name": "python",
      "nbconvert_exporter": "python",
      "pygments_lexer": "ipython3",
      "version": "3.12.8"
    }
  },
  "nbformat": 4,
  "nbformat_minor": 2
}
