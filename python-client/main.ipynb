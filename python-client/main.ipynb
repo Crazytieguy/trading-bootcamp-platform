{
  "cells": [
    {
      "cell_type": "code",
      "execution_count": 2,
      "metadata": {},
      "outputs": [],
      "source": [
        "from dotenv import load_dotenv\n",
        "from metagame import TradingClient\n",
        "import os\n",
        "\n",
        "load_dotenv()\n",
        "\n",
        "client = TradingClient(\n",
        "    api_url=os.environ[\"API_URL\"],\n",
        "    jwt=os.environ[\"JWT\"],\n",
        "    act_as=int(os.environ[\"ACT_AS\"]),\n",
        ")"
      ]
    },
    {
      "cell_type": "code",
      "execution_count": 3,
      "metadata": {},
      "outputs": [],
      "source": [
        "import pandas as pd\n",
        "\n",
        "def get_market_trades(market_name: str):\n",
        "    state = client.state()\n",
        "    market_id = state.market_name_to_id.get(market_name)    \n",
        "    if market_id is None:\n",
        "        return pd.DataFrame()\n",
        "\n",
        "    if not state.markets[market_id].hasFullTradeHistory:\n",
        "        client.get_full_trade_history(market_id)\n",
        "        state = client.state()\n",
        "\n",
        "    trades = state.markets[market_id].trades\n",
        "    if not trades:\n",
        "        return pd.DataFrame()\n",
        "    df = pd.DataFrame(trades).set_index(\"id\")\n",
        "    df[\"buyer\"] = df[\"buyer_id\"].map(lambda x: state.accounts[x].name)\n",
        "    df[\"seller\"] = df[\"seller_id\"].map(lambda x: state.accounts[x].name)\n",
        "    df[\"timestamp\"] = df[\"transaction_id\"].map(lambda x: state.transactions[x])\n",
        "    return df.drop(columns=[\"market_id\", \"buyer_id\", \"seller_id\", \"transaction_id\"])\n"
      ]
    },
    {
      "cell_type": "code",
      "execution_count": 4,
      "metadata": {},
      "outputs": [],
      "source": [
        "def get_market_positions(market_name: str):\n",
        "    df = get_market_trades(market_name)\n",
        "    if df.empty:\n",
        "        return pd.DataFrame()\n",
        "    return pd.concat([\n",
        "        df.groupby(\"buyer\")[\"size\"].sum(),\n",
        "        -df.groupby(\"seller\")[\"size\"].sum()\n",
        "    ]).groupby(level=0).sum()\n",
        "\n",
        "def get_multiple_market_positions(market_names: list[str]):\n",
        "    return pd.DataFrame({market: get_market_positions(market) for market in market_names}).fillna(0)"
      ]
    },
    {
      "cell_type": "code",
      "execution_count": 7,
      "metadata": {},
      "outputs": [
        {
          "data": {
            "application/vnd.jupyter.widget-view+json": {
              "model_id": "2e4ec5b812004492b5f1773c92fa901b",
              "version_major": 2,
              "version_minor": 0
            },
            "text/plain": [
              "interactive(children=(Checkbox(value=False, description='Refresh Data'), Output()), _dom_classes=('widget-inte…"
            ]
          },
          "metadata": {},
          "output_type": "display_data"
        },
        {
          "data": {
            "text/plain": [
              "<function __main__.get_dice(refresh)>"
            ]
          },
          "execution_count": 7,
          "metadata": {},
          "output_type": "execute_result"
        }
      ],
      "source": [
        "import ipywidgets as widgets\n",
        "\n",
        "def get_dice(refresh):\n",
        "    markets = [\"avg_hack_b\"]\n",
        "    return get_multiple_market_positions(markets)\n",
        "\n",
        "widgets.interact(get_dice, refresh=widgets.Checkbox(description=\"Refresh Data\"))"
      ]
    },
    {
      "cell_type": "code",
      "execution_count": 15,
      "metadata": {},
      "outputs": [
        {
          "data": {
            "application/vnd.jupyter.widget-view+json": {
              "model_id": "f5c3ccd9306e4174bb2739c01d23fdd5",
              "version_major": 2,
              "version_minor": 0
            },
            "text/plain": [
              "interactive(children=(Output(),), _dom_classes=('widget-interact',))"
            ]
          },
          "metadata": {},
          "output_type": "display_data"
        },
        {
          "data": {
            "text/plain": [
              "<function __main__.fair_values()>"
            ]
          },
          "execution_count": 15,
          "metadata": {},
          "output_type": "execute_result"
        }
      ],
      "source": [
        "import random\n",
        "import numpy as np\n",
        "\n",
        "def fair_values():\n",
        "    df = pd.DataFrame()\n",
        "\n",
        "    for idx in range(1,21):\n",
        "        avgs = []\n",
        "        mins = []\n",
        "        maxs = []\n",
        "        \n",
        "        # Perform 10000 simulations\n",
        "        for _ in range(10000):\n",
        "            rolls = [random.randint(1, 21) for _ in range(4)]\n",
        "            rolls.append(idx)\n",
        "            avgs.append(np.mean(rolls))\n",
        "            mins.append(min(rolls))\n",
        "            maxs.append(max(rolls))\n",
        "\n",
        "        # Calculate averages\n",
        "        df.at[idx, 'expected_avg'] = np.mean(avgs)\n",
        "        df.at[idx, 'expected_min'] = np.mean(mins)\n",
        "        df.at[idx, 'expected_max'] = np.mean(maxs)\n",
        "    return df    \n",
        "\n",
        "widgets.interact(fair_values, refresh=widgets.Checkbox(description=\"Refresh Data\"))\n"
      ]
    }
  ],
  "metadata": {
    "kernelspec": {
      "display_name": ".venv",
      "language": "python",
      "name": "python3"
    },
    "language_info": {
      "codemirror_mode": {
        "name": "ipython",
        "version": 3
      },
      "file_extension": ".py",
      "mimetype": "text/x-python",
      "name": "python",
      "nbconvert_exporter": "python",
      "pygments_lexer": "ipython3",
      "version": "3.12.8"
    }
  },
  "nbformat": 4,
  "nbformat_minor": 2
}
