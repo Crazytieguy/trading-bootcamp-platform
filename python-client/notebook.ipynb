{
 "cells": [
  {
   "cell_type": "code",
   "execution_count": null,
   "metadata": {},
   "outputs": [],
   "source": [
    "from dotenv import load_dotenv\n",
    "from metagame import TradingClient\n",
    "import os\n",
    "\n",
    "load_dotenv()\n",
    "\n",
    "client = TradingClient(\n",
    "    api_url=os.environ[\"API_URL\"],\n",
    "    jwt=os.environ[\"JWT\"],\n",
    "    act_as=int(os.environ[\"ACT_AS\"]),\n",
    ")"
   ]
  },
  {
   "cell_type": "code",
   "execution_count": 8,
   "metadata": {},
   "outputs": [
    {
     "name": "stdout",
     "output_type": "stream",
     "text": [
      "min_sat_test\n",
      "{'sat_mark': {'bought_volume': 13.089999999999998,\n",
      "              'sold_volume': 0.13999999999999999,\n",
      "              'avg_buy_price': 6.975935828877004,\n",
      "              'avg_sell_price': 4.5357142857142865},\n",
      " 'sat_Grass': {'bought_volume': 0.0,\n",
      "               'sold_volume': 11.01,\n",
      "               'avg_buy_price': 0.0,\n",
      "               'avg_sell_price': 7.40599455040872},\n",
      " 'sat_bob': {'bought_volume': 0.15,\n",
      "             'sold_volume': 2.089999999999998,\n",
      "             'avg_buy_price': 4.500000000000001,\n",
      "             'avg_sell_price': 4.696172248803832}}\n"
     ]
    }
   ],
   "source": [
    "from IPython.display import clear_output\n",
    "\n",
    "import collections\n",
    "import pandas as pd\n",
    "import pprint\n",
    "\n",
    "def get_position_by_name(markets):\n",
    "    state = client.state()\n",
    "\n",
    "    for market in markets:\n",
    "        market_id = state.market_name_to_id.get(market)    \n",
    "        if market_id is None:\n",
    "            return pd.DataFrame()\n",
    "\n",
    "        if not state.markets[market_id].hasFullTradeHistory:\n",
    "            client.get_full_trade_history(market_id)\n",
    "            state = client.state()\n",
    "\n",
    "        trades = state.markets[market_id].trades\n",
    "\n",
    "        position_sums = collections.defaultdict(lambda: {\n",
    "            \"buy_size\": 0.0,\n",
    "            \"buy_cost\": 0.0,\n",
    "            \"sell_size\": 0.0,\n",
    "            \"sell_cost\": 0.0,\n",
    "        })\n",
    "        \n",
    "        for t in trades:\n",
    "            buyer = state.accounts[t.buyer_id].name\n",
    "            seller = state.accounts[t.seller_id].name\n",
    "\n",
    "            position_sums[buyer][\"buy_size\"] += t.size\n",
    "            position_sums[buyer][\"buy_cost\"] += t.size * t.price\n",
    "\n",
    "            position_sums[seller][\"sell_size\"] += t.size\n",
    "            position_sums[seller][\"sell_cost\"] += t.size * t.price\n",
    "\n",
    "        results = {}\n",
    "        for user_id, sums in position_sums.items():\n",
    "            buy_size = sums[\"buy_size\"]\n",
    "            buy_cost = sums[\"buy_cost\"]\n",
    "            sell_size = sums[\"sell_size\"]\n",
    "            sell_cost = sums[\"sell_cost\"]\n",
    "            \n",
    "            avg_buy_price = buy_cost / buy_size if buy_size != 0 else 0.0\n",
    "            avg_sell_price = sell_cost / sell_size if sell_size != 0 else 0.0\n",
    "            \n",
    "            results[user_id] = {\n",
    "                \"bought_volume\": buy_size,\n",
    "                \"sold_volume\": sell_size,\n",
    "                \"avg_buy_price\": avg_buy_price,\n",
    "                \"avg_sell_price\": avg_sell_price,\n",
    "            }\n",
    "        print(market)\n",
    "        pprint.pp(results)\n",
    "\n",
    "try:\n",
    "    while True:\n",
    "        get_position_by_name([\"min_sat_test\",\"max_sat_test\", \"sum_sat_test\"])\n",
    "        client.wait_portfolio_update()\n",
    "        clear_output(wait=True)\n",
    "except KeyboardInterrupt:\n",
    "    clear_output(wait=True)\n",
    "get_position_by_name([\"min_sat_test\"])"
   ]
  }
 ],
 "metadata": {
  "kernelspec": {
   "display_name": ".venv",
   "language": "python",
   "name": "python3"
  },
  "language_info": {
   "codemirror_mode": {
    "name": "ipython",
    "version": 3
   },
   "file_extension": ".py",
   "mimetype": "text/x-python",
   "name": "python",
   "nbconvert_exporter": "python",
   "pygments_lexer": "ipython3",
   "version": "3.12.8"
  }
 },
 "nbformat": 4,
 "nbformat_minor": 2
}
