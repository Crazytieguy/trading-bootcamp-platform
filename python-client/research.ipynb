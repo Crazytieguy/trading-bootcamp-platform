{
 "cells": [
  {
   "cell_type": "code",
   "execution_count": null,
   "metadata": {},
   "outputs": [],
   "source": [
    "!mkdir -p historical_data\n",
    "\n",
    "!curl -L https://gist.githubusercontent.com/nicholascc/39df3671b93665861a69e295bcaa50ca/raw/93cd0147900fc822b758ea6df0d19ac4c41b8c95/orders.csv -o historical_data/orders.csv\n",
    "!curl -L https://gist.githubusercontent.com/nicholascc/39df3671b93665861a69e295bcaa50ca/raw/93cd0147900fc822b758ea6df0d19ac4c41b8c95/trades.csv -o historical_data/trades.csv\n",
    "\n",
    "!echo \"Files downloaded successfully to historical_data/\""
   ]
  },
  {
   "cell_type": "code",
   "execution_count": null,
   "metadata": {},
   "outputs": [],
   "source": [
    "import pandas as pd\n",
    "\n",
    "# Load data\n",
    "orders = pd.read_csv('historical_data/orders.csv', parse_dates=['timestamp'])\n",
    "trades = pd.read_csv('historical_data/trades.csv', parse_dates=['transaction_timestamp'])\n",
    "\n",
    "# Process each market\n",
    "market_grids = {}\n",
    "for market in orders['market_name'].unique():\n",
    "    # Filter market data\n",
    "    mkt_orders = orders[orders['market_name'] == market].set_index('timestamp')\n",
    "    mkt_trades = trades[trades['market_name'] == market].set_index('transaction_timestamp')\n",
    "    \n",
    "    # Create minute grids\n",
    "    order_grid = mkt_orders.groupby(pd.Grouper(freq='1Min')).last()\n",
    "    trade_grid = mkt_trades.groupby(pd.Grouper(freq='1Min')).agg({\n",
    "        'price': 'last',\n",
    "        'size': 'last'\n",
    "    }).rename(columns={'price': 'last_trade_price', 'size': 'last_trade_size'})\n",
    "    \n",
    "    # Combine and store\n",
    "    market_grids[market] = pd.concat([order_grid, trade_grid], axis=1).fillna(method='ffill')\n",
    "\n",
    "# Example: Look at first market's data\n",
    "first_market = list(market_grids.keys())[0]\n",
    "print(f\"\\nSample of {first_market} market grid:\")\n",
    "display(market_grids[first_market].head())"
   ]
  },
  {
   "cell_type": "code",
   "execution_count": null,
   "metadata": {},
   "outputs": [],
   "source": []
  }
 ],
 "metadata": {
  "kernelspec": {
   "display_name": ".venv",
   "language": "python",
   "name": "python3"
  },
  "language_info": {
   "codemirror_mode": {
    "name": "ipython",
    "version": 3
   },
   "file_extension": ".py",
   "mimetype": "text/x-python",
   "name": "python",
   "nbconvert_exporter": "python",
   "pygments_lexer": "ipython3",
   "version": "3.13.2"
  }
 },
 "nbformat": 4,
 "nbformat_minor": 2
}
